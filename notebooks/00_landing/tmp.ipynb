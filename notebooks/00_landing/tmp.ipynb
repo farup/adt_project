{
 "cells": [
  {
   "cell_type": "code",
   "execution_count": 1,
   "id": "2e923d63",
   "metadata": {},
   "outputs": [
    {
     "name": "stdout",
     "output_type": "stream",
     "text": [
      "3.5.2\n"
     ]
    }
   ],
   "source": [
    "print(spark.version)"
   ]
  },
  {
   "cell_type": "code",
   "execution_count": 2,
   "id": "8dd3f36d",
   "metadata": {},
   "outputs": [],
   "source": [
    "mqtt_token = dbutils.secrets.get(scope=\"storage-secrets\", key=\"mqtt-sas\")\n",
    "storage_account = \"datastoragefordatabricks\"\n",
    "container = \"tmp\"\n"
   ]
  },
  {
   "cell_type": "code",
   "execution_count": 8,
   "id": "3ee14f2c",
   "metadata": {},
   "outputs": [],
   "source": [
    "spark.conf.set(\n",
    "    f\"fs.azure.account.key.{storage_account}.dfs.core.windows.net\", mqtt_token\n",
    ")"
   ]
  },
  {
   "cell_type": "code",
   "execution_count": null,
   "id": "a059f0ea",
   "metadata": {},
   "outputs": [],
   "source": []
  },
  {
   "cell_type": "markdown",
   "id": "a16dcc2e",
   "metadata": {},
   "source": [
    "### Access Keys"
   ]
  },
  {
   "cell_type": "code",
   "execution_count": 8,
   "id": "ae00079a",
   "metadata": {},
   "outputs": [],
   "source": [
    "storage_account = \"datastoragefordatabricks\"\n",
    "storage_key = dbutils.secrets.get(scope=\"storage-secrets\", key=\"sg-acceskey1\")\n"
   ]
  },
  {
   "cell_type": "code",
   "execution_count": 17,
   "id": "9a278684",
   "metadata": {},
   "outputs": [],
   "source": [
    "spark.conf.set(\n",
    "    f\"fs.azure.account.key.{storage_account}.blob.core.windows.net\",\n",
    "    storage_key\n",
    ")"
   ]
  },
  {
   "cell_type": "code",
   "execution_count": null,
   "id": "215709d4",
   "metadata": {},
   "outputs": [],
   "source": [
    "# https://datastoragefordatabricks.blob.core.windows.net/tmp/mqtt-messages/messages-2025-07-07T09-54-34.884Z.jsonl"
   ]
  },
  {
   "cell_type": "code",
   "execution_count": 20,
   "id": "0cbd8614",
   "metadata": {},
   "outputs": [],
   "source": [
    "# read directly\n",
    "df = spark.read.format(\"json\").load(f\"wasbs://{container}@{storage_account}.blob.core.windows.net/mqtt-messages/messages-2025-07-07T09-54-34.884Z.jsonl\")"
   ]
  },
  {
   "cell_type": "code",
   "execution_count": 21,
   "id": "72b26100",
   "metadata": {},
   "outputs": [
    {
     "data": {
      "text/html": [
       "<table border=\"1\" class=\"dataframe\">\n",
       "  <thead>\n",
       "    <tr style=\"text-align: right;\">\n",
       "      <th></th>\n",
       "      <th>payload</th>\n",
       "      <th>timestamp</th>\n",
       "      <th>topic</th>\n",
       "    </tr>\n",
       "  </thead>\n",
       "  <tbody>\n",
       "    <tr>\n",
       "      <th>0</th>\n",
       "      <td>{\"distance\":260869215,\"eventTimestamp\":\"2025-07-07T09:53:36.070Z\",\"messageNumber\":31091,\"traceId\":\"05d44b3d-6955-40cd-9bfe-83b7f67e676a\"}</td>\n",
       "      <td>2025-07-07T09:53:34.75743446Z</td>\n",
       "      <td>ruter/nettbuss/WMAA21ZZ5LF014048/adt/v3/sensors/odometer</td>\n",
       "    </tr>\n",
       "    <tr>\n",
       "      <th>1</th>\n",
       "      <td>{\"distance\":204610407,\"eventTimestamp\":\"2025-07-07T09:53:35.493Z\",\"messageNumber\":31244,\"traceId\":\"6a6cec7a-5619-4308-8684-e3db42781da5\"}</td>\n",
       "      <td>2025-07-07T09:53:34.757694568Z</td>\n",
       "      <td>ruter/nettbuss/WMAA44ZZ2LF013824/adt/v3/sensors/odometer</td>\n",
       "    </tr>\n",
       "    <tr>\n",
       "      <th>2</th>\n",
       "      <td>{\"distance\":14243941,\"eventTimestamp\":\"2025-07-07T09:53:35.769Z\",\"messageNumber\":31210,\"traceId\":\"d8d6a1fd-1db9-476a-84f2-ebaf0a17fa79\"}</td>\n",
       "      <td>2025-07-07T09:53:34.775007995Z</td>\n",
       "      <td>ruter/nettbuss/WMAA21ZZ2LF014122/adt/v3/sensors/odometer</td>\n",
       "    </tr>\n",
       "    <tr>\n",
       "      <th>3</th>\n",
       "      <td>{\"distance\":244964200,\"eventTimestamp\":\"2025-07-07T09:53:36.041Z\",\"messageNumber\":30937,\"traceId\":\"6d2d7872-f040-4b06-80eb-d8bcccbf882d\"}</td>\n",
       "      <td>2025-07-07T09:53:34.775033693Z</td>\n",
       "      <td>ruter/nettbuss/WMAA49ZZ3LF013828/adt/v3/sensors/odometer</td>\n",
       "    </tr>\n",
       "    <tr>\n",
       "      <th>4</th>\n",
       "      <td>{\"distance\":0,\"eventTimestamp\":\"2025-07-07T09:53:35.540Z\",\"messageNumber\":30343,\"traceId\":\"1a6a46f3-e8f3-4963-abe5-169e76794f86\"}</td>\n",
       "      <td>2025-07-07T09:53:34.77503721Z</td>\n",
       "      <td>ruter/nettbuss/B8R__169874/adt/v3/sensors/odometer</td>\n",
       "    </tr>\n",
       "    <tr>\n",
       "      <th>5</th>\n",
       "      <td>{\"distance\":9879982,\"eventTimestamp\":\"2025-07-07T09:53:36.344Z\",\"messageNumber\":29924,\"traceId\":\"8fd0e674-3394-482e-91b6-ca5c1244a353\"}</td>\n",
       "      <td>2025-07-07T09:53:34.788290402Z</td>\n",
       "      <td>ruter/nettbuss/WMAA44ZZ1LF013636/adt/v3/sensors/odometer</td>\n",
       "    </tr>\n",
       "    <tr>\n",
       "      <th>6</th>\n",
       "      <td>{\"distance\":15031462,\"eventTimestamp\":\"2025-07-07T09:53:35.676Z\",\"messageNumber\":30835,\"traceId\":\"98bc4b53-8aef-4a78-a094-3154abd6b3ae\"}</td>\n",
       "      <td>2025-07-07T09:53:34.788292786Z</td>\n",
       "      <td>ruter/nettbuss/WMAA44ZZXLF013862/adt/v3/sensors/odometer</td>\n",
       "    </tr>\n",
       "    <tr>\n",
       "      <th>7</th>\n",
       "      <td>{\"doorOpen\":true,\"eventTimestamp\":\"2025-07-07T09:13:52.353Z\",\"traceId\":\"573d7aef-447f-452c-a160-1dcf5b753cf8\"}</td>\n",
       "      <td>2025-07-07T09:53:34.829653826Z</td>\n",
       "      <td>ruter/nettbuss/B8R__169874/adt/v3/sensors/door</td>\n",
       "    </tr>\n",
       "    <tr>\n",
       "      <th>8</th>\n",
       "      <td>{\"context\":{\"journeyRef\":null,\"stopPlaceId\":null,\"tariffZone\":\"RUT:TariffZone:227\",\"trigger\":\"InternetConnectionStatusChanged\",\"appVersion\":\"3.1.5\",\"userId\":null},\"eventTimestamp\":\"2025-07-07T06:18:08.250Z\",\"metrics\":{\"nfcStatus\":{\"interfaceType\":\"usb\",\"connected\":true,\"errorMessage\":null},\"printerStatus\":{\"connected\":false,\"errorMessage\":null},\"internetConnectionStatus\":{\"connected\":true,\"errorMessage\":null},\"loggedIn\":false},\"spanId\":\"e3a4dc8e-8d95-468e-b43a-d2020b32c9c6\",\"traceId\":\"a1da7f5f-19c2-428c-b48c-3456c666f637\"}</td>\n",
       "      <td>2025-07-07T09:53:34.82971997Z</td>\n",
       "      <td>ruter/nettbuss/LC06S44R0K4000148/adt/v3/pe/sales/diagnostics</td>\n",
       "    </tr>\n",
       "    <tr>\n",
       "      <th>9</th>\n",
       "      <td>{\"context\":{\"vehicleRef\":\"LC06S44R0K4000148\",\"progressRef\":\"5a12ce7d-75ac-4945-ab9c-4dfabe79b054\",\"currentStopTimestamp\":\"2025-07-03T22:15:05Z\",\"lineRef\":\"RUT:Line:41\",\"assignmentRef\":\"2dfe15572c2a483797409822de13e920\",\"actualCallRef\":\"a05a6100-90bf-46f8-89c3-b1a29114c194\",\"chainId\":\"140\",\"journeyRef\":\"4515-2025-07-03T23:57:00+02:00\",\"stopPlaceId\":\"NSR:StopPlace:6390\",\"tariffZone\":\"RUT:TariffZone:227\",\"appVersion\":\"3.1.5\",\"userId\":null,\"adtApiVersion\":\"3\"},\"eventTimestamp\":\"2025-07-07T06:18:11.955Z\",\"metrics\":{\"loggedIn\":false},\"spanId\":\"f38e8c3d-5626-4139-8746-4b567abe5796\",\"traceId\":\"beeba650-b237-45f8-b665-028e37243758\"}</td>\n",
       "      <td>2025-07-07T09:53:34.82973069Z</td>\n",
       "      <td>ruter/nettbuss/LC06S44R0K4000148/adt/v3/pe/sales/sla</td>\n",
       "    </tr>\n",
       "    <tr>\n",
       "      <th>10</th>\n",
       "      <td>{\"doorOpen\":true,\"eventTimestamp\":\"2025-07-07T09:30:41.560Z\",\"traceId\":\"01dcd986-300f-4628-8f78-b539c0915dad\"}</td>\n",
       "      <td>2025-07-07T09:53:34.82982727Z</td>\n",
       "      <td>ruter/nettbuss/LC06S44R0K4000148/adt/v3/sensors/door</td>\n",
       "    </tr>\n",
       "    <tr>\n",
       "      <th>11</th>\n",
       "      <td>{\"context\":{\"journeyRef\":\"4504-2025-07-07T11:45:00+02:00\",\"stopPlaceId\":\"NSR:StopPlace:6243\",\"tariffZone\":\"RUT:TariffZone:227\",\"trigger\":\"StopPlace\",\"appVersion\":\"3.1.5\",\"userId\":\"vy42104\"},\"eventTimestamp\":\"2025-07-07T09:52:15.842Z\",\"metrics\":{\"nfcStatus\":{\"interfaceType\":\"usb\",\"connected\":true,\"errorMessage\":null},\"printerStatus\":{\"connected\":true,\"errorMessage\":null},\"internetConnectionStatus\":{\"connected\":true,\"errorMessage\":null},\"loggedIn\":true},\"spanId\":\"f434d4ab-8c14-4a98-9f94-615b65952eb9\",\"traceId\":\"06260609-1c84-47ea-ba74-bbf3016dabce\"}</td>\n",
       "      <td>2025-07-07T09:53:34.82983804Z</td>\n",
       "      <td>ruter/nettbuss/LC06S44R0K4000151/adt/v3/pe/sales/diagnostics</td>\n",
       "    </tr>\n",
       "    <tr>\n",
       "      <th>12</th>\n",
       "      <td>{\"context\":{\"vehicleRef\":\"LC06S44R0K4000151\",\"progressRef\":\"73d33463-232d-4d9d-887b-f7d3c62f1622\",\"currentStopTimestamp\":\"2025-07-07T09:52:14Z\",\"lineRef\":\"RUT:Line:40\",\"assignmentRef\":\"e183db7bfb734734b9d01a976fa1b5a9\",\"actualCallRef\":\"9157d0da-c74a-451f-9550-a6ff35d239e4\",\"chainId\":\"140\",\"journeyRef\":\"4504-2025-07-07T11:45:00+02:00\",\"stopPlaceId\":\"NSR:StopPlace:6243\",\"tariffZone\":\"RUT:TariffZone:227\",\"appVersion\":\"3.1.5\",\"userId\":\"vy42104\",\"adtApiVersion\":\"3\"},\"eventTimestamp\":\"2025-07-07T09:52:15.844Z\",\"metrics\":{\"loggedIn\":true},\"spanId\":\"3bd05d24-e99e-4e40-b8b5-abbde151bd86\",\"traceId\":\"06260609-1c84-47ea-ba74-bbf3016dabce\"}</td>\n",
       "      <td>2025-07-07T09:53:34.82988849Z</td>\n",
       "      <td>ruter/nettbuss/LC06S44R0K4000151/adt/v3/pe/sales/sla</td>\n",
       "    </tr>\n",
       "    <tr>\n",
       "      <th>13</th>\n",
       "      <td>{\"doorOpen\":false,\"eventTimestamp\":\"2025-07-07T09:52:33.523Z\",\"traceId\":\"17b8b478-a889-4c03-bf71-e6e9b3d050b1\"}</td>\n",
       "      <td>2025-07-07T09:53:34.829947222Z</td>\n",
       "      <td>ruter/nettbuss/LC06S44R0K4000151/adt/v3/sensors/door</td>\n",
       "    </tr>\n",
       "    <tr>\n",
       "      <th>14</th>\n",
       "      <td>{\"context\":{\"journeyRef\":\"4503-2025-07-07T11:15:00+02:00\",\"stopPlaceId\":\"NSR:StopPlace:6450\",\"tariffZone\":\"RUT:TariffZone:227\",\"trigger\":\"InternetConnectionStatusChanged\",\"appVersion\":\"3.1.5\",\"userId\":\"vy77305\"},\"eventTimestamp\":\"2025-07-07T09:47:49.400Z\",\"metrics\":{\"nfcStatus\":{\"interfaceType\":\"usb\",\"connected\":true,\"errorMessage\":null},\"printerStatus\":{\"connected\":true,\"errorMessage\":null},\"internetConnectionStatus\":{\"connected\":false,\"errorMessage\":\"No connection\"},\"loggedIn\":true},\"spanId\":\"ef78355a-0253-46c0-ba4d-7a091290de10\",\"traceId\":\"2f582842-07d8-4b03-a797-2676354189f3\"}</td>\n",
       "      <td>2025-07-07T09:53:34.830012536Z</td>\n",
       "      <td>ruter/nettbuss/LC06S44R0K4000165/adt/v3/pe/sales/diagnostics</td>\n",
       "    </tr>\n",
       "    <tr>\n",
       "      <th>15</th>\n",
       "      <td>{\"context\":{\"vehicleRef\":\"LC06S44R0K4000165\",\"progressRef\":\"d46d19c0-31e3-4aa5-aad8-fe18b1449dd6\",\"currentStopTimestamp\":\"2025-07-07T09:31:04Z\",\"lineRef\":\"RUT:Line:40\",\"assignmentRef\":\"3be25dd9f16d425d8b65624647628e39\",\"actualCallRef\":\"3d90de75-301d-4e50-be31-6062b635f37e\",\"chainId\":\"140\",\"journeyRef\":\"4503-2025-07-07T11:15:00+02:00\",\"stopPlaceId\":\"NSR:StopPlace:6450\",\"tariffZone\":\"RUT:TariffZone:227\",\"appVersion\":\"3.1.5\",\"userId\":\"vy77305\",\"adtApiVersion\":\"3\"},\"eventTimestamp\":\"2025-07-07T09:50:08.579Z\",\"metrics\":{\"loggedIn\":true},\"spanId\":\"ea5d1c2e-5a97-4713-847a-b53360476fde\",\"traceId\":\"93c35c12-8b1d-46ce-8854-355e0b3dde44\"}</td>\n",
       "      <td>2025-07-07T09:53:34.830015342Z</td>\n",
       "      <td>ruter/nettbuss/LC06S44R0K4000165/adt/v3/pe/sales/sla</td>\n",
       "    </tr>\n",
       "    <tr>\n",
       "      <th>16</th>\n",
       "      <td>{\"doorOpen\":true,\"eventTimestamp\":\"2025-07-07T09:53:09.927Z\",\"traceId\":\"d0c2440e-bc7a-4b96-962a-d16bf2c3bbc4\"}</td>\n",
       "      <td>2025-07-07T09:53:34.830021032Z</td>\n",
       "      <td>ruter/nettbuss/LC06S44R0K4000165/adt/v3/sensors/door</td>\n",
       "    </tr>\n",
       "    <tr>\n",
       "      <th>17</th>\n",
       "      <td>{\"context\":{\"journeyRef\":\"4514-2025-07-07T11:45:00+02:00\",\"stopPlaceId\":\"NSR:StopPlace:6408\",\"tariffZone\":\"RUT:TariffZone:227\",\"trigger\":\"StopPlace\",\"appVersion\":\"3.1.5\",\"userId\":\"vy41757\"},\"eventTimestamp\":\"2025-07-07T09:53:14.693Z\",\"metrics\":{\"nfcStatus\":{\"interfaceType\":\"usb\",\"connected\":true,\"errorMessage\":null},\"printerStatus\":{\"connected\":false,\"errorMessage\":\"TerminalException: Cannot find printer (StarIOPortException: Cannot find printer)\"},\"internetConnectionStatus\":{\"connected\":true,\"errorMessage\":null},\"loggedIn\":true},\"spanId\":\"588e2e30-27fc-4b75-a1ba-e69efd915306\",\"traceId\":\"d8f9ecc7-d1ba-4f4b-b6f2-010135eecafb\"}</td>\n",
       "      <td>2025-07-07T09:53:34.830110537Z</td>\n",
       "      <td>ruter/nettbuss/LC06S44R1K4000157/adt/v3/pe/sales/diagnostics</td>\n",
       "    </tr>\n",
       "    <tr>\n",
       "      <th>18</th>\n",
       "      <td>{\"context\":{\"vehicleRef\":\"LC06S44R1K4000157\",\"progressRef\":\"c2f64375-55b9-4fc6-a5b1-ef4ebf7fdf87\",\"currentStopTimestamp\":\"2025-07-07T09:53:13Z\",\"lineRef\":\"RUT:Line:46\",\"assignmentRef\":\"56f5044b317a43dc8e0529a976a886d1\",\"actualCallRef\":\"749136bf-f396-43b7-8151-8362f8a83e0f\",\"chainId\":\"140\",\"journeyRef\":\"4514-2025-07-07T11:45:00+02:00\",\"stopPlaceId\":\"NSR:StopPlace:6408\",\"tariffZone\":\"RUT:TariffZone:227\",\"appVersion\":\"3.1.5\",\"userId\":\"vy41757\",\"adtApiVersion\":\"3\"},\"eventTimestamp\":\"2025-07-07T09:53:14.694Z\",\"metrics\":{\"loggedIn\":true},\"spanId\":\"d934ec21-cb36-4103-b2ac-3c3bc8cb2889\",\"traceId\":\"d8f9ecc7-d1ba-4f4b-b6f2-010135eecafb\"}</td>\n",
       "      <td>2025-07-07T09:53:34.830151404Z</td>\n",
       "      <td>ruter/nettbuss/LC06S44R1K4000157/adt/v3/pe/sales/sla</td>\n",
       "    </tr>\n",
       "    <tr>\n",
       "      <th>19</th>\n",
       "      <td>{\"doorOpen\":true,\"eventTimestamp\":\"2025-07-07T09:53:23.527Z\",\"traceId\":\"5190777d-cf5d-4bcd-871a-cb74fe6cfc82\"}</td>\n",
       "      <td>2025-07-07T09:53:34.830163526Z</td>\n",
       "      <td>ruter/nettbuss/LC06S44R1K4000157/adt/v3/sensors/door</td>\n",
       "    </tr>\n",
       "  </tbody>\n",
       "</table>"
      ],
      "text/plain": [
       "DataFrame[payload: string, timestamp: string, topic: string]"
      ]
     },
     "metadata": {},
     "output_type": "display_data"
    }
   ],
   "source": [
    "display(df)"
   ]
  }
 ],
 "metadata": {
  "kernelspec": {
   "display_name": "env_dbw",
   "language": "python",
   "name": "python3"
  },
  "language_info": {
   "codemirror_mode": {
    "name": "ipython",
    "version": 3
   },
   "file_extension": ".py",
   "mimetype": "text/x-python",
   "name": "python",
   "nbconvert_exporter": "python",
   "pygments_lexer": "ipython3",
   "version": "3.12.3"
  }
 },
 "nbformat": 4,
 "nbformat_minor": 5
}
